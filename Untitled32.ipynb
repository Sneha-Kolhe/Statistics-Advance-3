{
 "cells": [
  {
   "cell_type": "markdown",
   "id": "8250659f-5ee0-4f2f-9034-caecb843f545",
   "metadata": {},
   "source": [
    "## Q1: What is Estimation Statistics? Explain point estimate and interval estimate."
   ]
  },
  {
   "cell_type": "code",
   "execution_count": null,
   "id": "2a4b5df4-b1f9-4d03-8ea7-0b678b340f74",
   "metadata": {},
   "outputs": [],
   "source": [
    "Estimation statistics is a branch of statistics concerned with estimating population parameters based on sample data. It involves making inferences about the true values of parameters using information obtained from a sample.\n",
    "\n",
    "Point Estimate:\n",
    "\n",
    "A point estimate is a single value calculated from sample data that serves as the best guess or approximation of the true value of a population parameter.\n",
    "Point estimates are often calculated using sample statistics, such as the sample mean or sample proportion, which are then used to estimate the corresponding population parameters, such as the population mean or population proportion.\n",
    "For example, if we want to estimate the average height of students in a school, we might calculate the sample mean height of a group of randomly selected students and use that value as our point estimate of the population mean height.\n",
    "Interval Estimate:\n",
    "\n",
    "An interval estimate provides a range of values within which the true value of a population parameter is likely to lie, along with a level of confidence associated with that interval.\n",
    "Interval estimates are typically constructed using the point estimate along with a margin of error or a confidence interval.\n",
    "Confidence intervals are commonly used for interval estimation. A confidence interval is a range of values calculated from sample data that is likely to contain the true population parameter with a specified level of confidence (e.g., 95% confidence).\n",
    "For example, if we calculate a 95% confidence interval for the average height of students in a school, it might be expressed as \"68 inches to 72 inches.\" This means that we are 95% confident that the true average height of all students falls within this range.\n",
    "In summary, estimation statistics involves using sample data to estimate population parameters. Point estimates provide single-value approximations of population parameters, while interval estimates provide ranges of values along with associated levels of confidence. Both point estimates and interval estimates are essential tools in statistical inference and decision-making.\n",
    "\n",
    "\n",
    "\n",
    "\n",
    "\n",
    "\n"
   ]
  },
  {
   "cell_type": "markdown",
   "id": "ee1583b1-a390-4276-9574-7bda4ad1ce04",
   "metadata": {},
   "source": [
    "## Q2. Write a Python function to estimate the population mean using a sample mean and standard\n",
    "deviation."
   ]
  },
  {
   "cell_type": "code",
   "execution_count": null,
   "id": "af4a2f0e-69d5-44ad-830c-6ae0a30112a9",
   "metadata": {},
   "outputs": [],
   "source": [
    "Parameters:\n",
    "    - sample_mean (float): Sample mean\n",
    "    - sample_std_dev (float): Sample standard deviation\n",
    "    - sample_size (int): Sample size\n",
    "\n",
    "    Returns:\n",
    "    - float: Estimated population mean\n",
    "    \"\"\"\n",
    "    import math\n",
    "\n",
    "    # Calculate the standard error (standard deviation of the sampling distribution of the sample mean)\n",
    "    standard_error = sample_std_dev / math.sqrt(sample_size)\n",
    "\n",
    "    # Use the formula for the confidence interval for a large sample size (assuming normal distribution)\n",
    "    # Z-value for 95% confidence interval (standard normal distribution)\n",
    "    z_value = 1.96  # For a 95% confidence level\n",
    "\n",
    "    # Calculate the margin of error\n",
    "    margin_of_error = z_value * standard_error\n",
    "\n",
    "    # Estimate the population mean\n",
    "    population_mean = sample_mean - margin_of_error  # or sample_mean + margin_of_error, depending on requirements\n",
    "\n",
    "    return population_mean\n",
    "\n",
    "# Example usage:\n",
    "sample_mean = 75  # Sample mean\n",
    "sample_std_dev = 5  # Sample standard deviation\n",
    "sample_size = 100  # Sample size\n",
    "\n",
    "estimated_population_mean = estimate_population_mean(sample_mean, sample_std_dev, sample_size)\n",
    "print(\"Estimated population mean:\", estimated_population_mean)\n",
    "In this function:\n",
    "\n",
    "We calculate the standard error, which represents the standard deviation of the sampling distribution of the sample mean.\n",
    "We use the Z-value associated with the desired confidence level (e.g., 95% confidence corresponds to a Z-value of 1.96 for a standard normal distribution).\n",
    "We calculate the margin of error using the standard error and the Z-value.\n",
    "Finally, we estimate the population mean by subtracting (or adding, depending on requirements) the margin of error from the sample mean."
   ]
  },
  {
   "cell_type": "markdown",
   "id": "0410fbcb-94ac-4444-b732-7020647dc5ad",
   "metadata": {},
   "source": [
    "## Q3: What is Hypothesis testing? Why is it used? State the importance of Hypothesis testing."
   ]
  },
  {
   "cell_type": "code",
   "execution_count": null,
   "id": "7b4a06b5-6447-444e-bc22-5775db2164e9",
   "metadata": {},
   "outputs": [],
   "source": []
  }
 ],
 "metadata": {
  "kernelspec": {
   "display_name": "Python 3 (ipykernel)",
   "language": "python",
   "name": "python3"
  },
  "language_info": {
   "codemirror_mode": {
    "name": "ipython",
    "version": 3
   },
   "file_extension": ".py",
   "mimetype": "text/x-python",
   "name": "python",
   "nbconvert_exporter": "python",
   "pygments_lexer": "ipython3",
   "version": "3.10.8"
  }
 },
 "nbformat": 4,
 "nbformat_minor": 5
}
